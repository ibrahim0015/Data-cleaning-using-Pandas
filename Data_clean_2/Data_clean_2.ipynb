{
 "cells": [
  {
   "cell_type": "code",
   "execution_count": 20,
   "id": "9ad98a67",
   "metadata": {},
   "outputs": [],
   "source": [
    "import pandas as pd"
   ]
  },
  {
   "cell_type": "code",
   "execution_count": 46,
   "id": "0609b1aa",
   "metadata": {},
   "outputs": [],
   "source": [
    "df = pd.read_csv(\"Orders.csv\")\n",
    "\n",
    "# Removing duplicated rows(if any).\n",
    "df = df.drop_duplicates()\n",
    "\n",
    "#Dropping rows with no data.\n",
    "df = df.dropna(subset=[\"Order Date\"])\n",
    "\n",
    "# Capitalizing some Columns.\n",
    "df[\"City\"] = df[\"City\"].str.title()\n",
    "df[\"Customer First Name\"] = df[\"Customer First Name\"].str.capitalize()\n",
    "df[\"Customer Last Name\"] = df[\"Customer Last Name\"].str.capitalize()\n",
    "\n",
    "# Replacing NaN values with 0 in Discount Column.\n",
    "df[\"Discount\"] = df[\"Discount\"].fillna(0)\n",
    "\n",
    "# lower case the Email Column.\n",
    "df[\"Email\"] = df[\"Email\"].str.lower()\n",
    "\n",
    "df.to_csv(\"Cleaned_Orders.csv\")"
   ]
  },
  {
   "cell_type": "code",
   "execution_count": null,
   "id": "4ba3554f",
   "metadata": {},
   "outputs": [],
   "source": []
  }
 ],
 "metadata": {
  "kernelspec": {
   "display_name": "base",
   "language": "python",
   "name": "python3"
  },
  "language_info": {
   "codemirror_mode": {
    "name": "ipython",
    "version": 3
   },
   "file_extension": ".py",
   "mimetype": "text/x-python",
   "name": "python",
   "nbconvert_exporter": "python",
   "pygments_lexer": "ipython3",
   "version": "3.12.7"
  }
 },
 "nbformat": 4,
 "nbformat_minor": 5
}
