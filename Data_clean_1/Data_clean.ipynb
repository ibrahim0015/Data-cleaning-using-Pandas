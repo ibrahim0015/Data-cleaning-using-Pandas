{
 "cells": [
  {
   "cell_type": "code",
   "execution_count": 3,
   "id": "f2e83894",
   "metadata": {},
   "outputs": [],
   "source": [
    "import pandas as pd"
   ]
  },
  {
   "cell_type": "code",
   "execution_count": null,
   "id": "cee303cd",
   "metadata": {},
   "outputs": [],
   "source": [
    "# Reading the file.\n",
    "df = pd.read_csv(\"my_file (1).csv\")\n",
    "\n",
    "# Removing unneccassary columns.\n",
    "df= df.drop(columns=[\"Peak\",\"All Time Peak\"])\n",
    "\n",
    "# Removing the non-numeric values of columns.\n",
    "df[\"Actual\\xa0gross\"] = df[\"Actual\\xa0gross\"].str.replace(r\"\\[[a-zA-Z]+\\]$\", \"\", regex=True)\n",
    "df[\"Tour title\"] = df[\"Tour title\"].str.replace(r'\\(\\[.*?\\]\\)', '', regex=True).str.strip()\n",
    "df[\"Tour title\"] = df[\"Tour title\"].str.replace('[^a-zA-Z0-9]', '', regex=True)\n",
    "\n",
    "# Removing the brackets from the column \"Ref.\".\n",
    "df[\"Ref.\"] = df[\"Ref.\"].str.strip('[]')\n",
    "df[\"Ref.\"] = df[\"Ref.\"].str.replace(r'[\\[\\]]',\" \", regex=True)\n",
    "\n",
    "# Removing non-numeric characters (to keep only numbers)\n",
    "df[\"Ref.\"] = df[\"Ref.\"].str.replace('[^0-9]',' ', regex=True)\n",
    "\n",
    "# Filling empty spaces with estimated values.\n",
    "df[\"Ref.\"] = pd.to_numeric(df[\"Ref.\"], errors='coerce')\n",
    "df[\"Ref.\"] = df[\"Ref.\"].interpolate(method='linear')\n",
    "df[\"Ref.\"] = df[\"Ref.\"].astype('Int64')\n",
    "\n",
    "df.to_csv(\"cleaned_my_file (1).csv\")"
   ]
  },
  {
   "cell_type": "code",
   "execution_count": null,
   "id": "7c64c96a",
   "metadata": {},
   "outputs": [],
   "source": []
  }
 ],
 "metadata": {
  "kernelspec": {
   "display_name": "base",
   "language": "python",
   "name": "python3"
  },
  "language_info": {
   "codemirror_mode": {
    "name": "ipython",
    "version": 3
   },
   "file_extension": ".py",
   "mimetype": "text/x-python",
   "name": "python",
   "nbconvert_exporter": "python",
   "pygments_lexer": "ipython3",
   "version": "3.12.7"
  }
 },
 "nbformat": 4,
 "nbformat_minor": 5
}
