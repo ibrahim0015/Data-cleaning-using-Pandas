{
 "cells": [
  {
   "cell_type": "code",
   "execution_count": null,
   "id": "0cd38dab",
   "metadata": {},
   "outputs": [],
   "source": [
    "import pandas as pd"
   ]
  },
  {
   "cell_type": "code",
   "execution_count": null,
   "id": "a59b27e5",
   "metadata": {},
   "outputs": [],
   "source": [
    "df = pd.read_excel(\"DPS_BOYS_SSC_II_2025.xlsx\")\n",
    "\n",
    "\n",
    "# Creating a 'Total Marks' Column. \n",
    "marks_column = ['TRQI'\t,'TRQII'\t,'URDI'\t,'URDII',\t'ENGI',\t'ENGII'\t,'ISLI'\t,'ISLII'\t,'PSI',\t'PSII'\t,'MATHI',\t'MATHII',\t'PHYI'\t,'PHYII'\t,'PHY Practical'\t,'CHEI'\t,'CHEII'\t,'CHE Practical'\t,'BIOI',\t'BIOII',\t'BIO Practical'\t,'CSE Practical',\t'CSEI',\t'CSEII']\n",
    "df[marks_column] = df[marks_column].apply(pd.to_numeric, errors='coerce')\n",
    "df[\"Total Marks1\"] = df[marks_column].sum(axis=1)\n",
    "df = df.sort_values(by=\"Total Marks1\",ascending=False)\n",
    "\n",
    "# Split into Bio and CS students\n",
    "bio_students = df[df[\"BIOI\"].notna()].copy()\n",
    "cs_students = df[df[\"CSEI\"].notna()].copy()\n",
    "\n",
    "\n",
    "# Drop irrelevant columns\n",
    "bio_students.drop(columns=[\"CSEI\", \"CSEII\"], inplace=True)\n",
    "cs_students.drop(columns=[\"BIOII\", \"BIOII\"], inplace=True)\n",
    "\n",
    "# Combine them: Bio on top, CS below\n",
    "final_df = pd.concat([bio_students, cs_students], ignore_index=True)\n",
    "\n",
    "final_df[\"Total Marks\"]=final_df[\"Total Marks1\"]\n",
    "final_df.drop(columns=[\"Total Marks1\"],inplace=True)\n",
    "\n",
    "\n",
    "# Save to new Excel\n",
    "final_df.to_excel(\"cleaned_students_marks.xlsx\", index=False)\n",
    "\n"
   ]
  },
  {
   "cell_type": "code",
   "execution_count": null,
   "id": "37fe0fb8",
   "metadata": {},
   "outputs": [],
   "source": []
  }
 ],
 "metadata": {
  "kernelspec": {
   "display_name": "base",
   "language": "python",
   "name": "python3"
  },
  "language_info": {
   "codemirror_mode": {
    "name": "ipython",
    "version": 3
   },
   "file_extension": ".py",
   "mimetype": "text/x-python",
   "name": "python",
   "nbconvert_exporter": "python",
   "pygments_lexer": "ipython3",
   "version": "3.12.7"
  }
 },
 "nbformat": 4,
 "nbformat_minor": 5
}
